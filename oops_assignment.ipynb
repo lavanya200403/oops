{
  "nbformat": 4,
  "nbformat_minor": 0,
  "metadata": {
    "colab": {
      "provenance": []
    },
    "kernelspec": {
      "name": "python3",
      "display_name": "Python 3"
    },
    "language_info": {
      "name": "python"
    }
  },
  "cells": [
    {
      "cell_type": "markdown",
      "source": [
        "#THEORY ANSWERS"
      ],
      "metadata": {
        "id": "xwZx-FCXNZEj"
      }
    },
    {
      "cell_type": "markdown",
      "source": [
        "#1. What is Object-Oriented Programming (OOP)?\n",
        "\n",
        "    ->It is a programming system in which program is made of object rather than functions.\n",
        "\n",
        "#2. What is a class in OOP?\n",
        "\n",
        "    ->It is a blueprint that describes the structure of object.\n",
        "\n",
        "#3. What is an object in OOP?\n",
        "\n",
        "    ->An object is a instance of class with its own properties.\n",
        "\n",
        "#4. What is the difference between abstraction and encapsulation?\n",
        "\n",
        "    ->Abstraction means hiding the unrequired class and exploring the required.\n",
        "    abstract class is the class which is hidden or explooring as per the requirement in python.\n",
        "\n",
        "    ->Encapsulation means hiding something .\n",
        "    It is a methods of a class access which public, protected and private the data as per requirement.\n",
        "\n",
        "#5. What are dunder methods in Python?\n",
        "\n",
        "    ->This method defined by build-in class in python.\n",
        "\n",
        "#6. Explain the concept of inheritance in OOPH\n",
        "\n",
        "    ->It is a process of child class receiving properties from parent class.\n",
        "\n",
        "#7. What is polymorphism in OOP?\n",
        "\n",
        "    ->Poly means many and morphism means forms/states . It refers to an object taking several forms depending on the data\n",
        "\n",
        "#8. How is encapsulation achieved in Python?\n",
        "\n",
        "    ->Encapsulation means hiding something .\n",
        "    It is a methods of a class access which public, protected and private the data as per requirement.\n",
        "#9. What is a constructor in Python?\n",
        "\n",
        "    ->It means constructing class with initialisation of data.\n",
        "#10. What are class and static methods in Python?\n",
        "\n",
        "    ->In class method we access to the class directly without any need of defining the object.\n",
        "\n",
        "    ->In static method it does not modify class or instance state, it behaves like a plain function that belongs to class\n",
        "    it doesn't take either self or cls.\n",
        "#11. What is method overloading in Python?\n",
        "\n",
        "    ->In this method is taking different formsbut  the last methods overloads the previous ones in the same class .Hence the last methord is overloadding in a class.\n",
        "#12. What is method overriding in OOP?\n",
        "\n",
        "    ->It means re-defining the method of parent class in child class.\n",
        "    child class overrides the parent class.\n",
        "\n",
        "#13. What is a property decorator in Python?\n",
        "\n",
        "    ->It is a in build function in python used to define method to access the object.\n",
        "#14. Why is polymorphism important in OOP?\n",
        "\n",
        "    ->because it allows diffrent objects to be treated in a common class , which makes it reusable, flexible and simple to implement.\n",
        "#15. What is an abstract class in Python?\n",
        "\n",
        "    ->Abstraction means hiding the unrequired class and exploring the required.\n",
        "    abstract class is the class which is hidden or explooring as per the requirement in python.\n",
        "#16. What are the advantages of OOP?\n",
        "\n",
        "    ->it helps in many ways like:\n",
        "\n",
        "    it helps in making different classes to make it understandable.\n",
        "    it is reusable.\n",
        "    provide inheritence properties.\n",
        "    can make different behaviour objects in same class.\n",
        "#17. What is the difference between a class variable and an instance variable?\n",
        "\n",
        "    ->Class variable implement to all the instance of the class .\n",
        "\n",
        "     On the other hand,\n",
        "\n",
        "    -> instance variable is specific for a object means to be unique for each instance.\n",
        "#18. What is multiple inheritance in Python?\n",
        "\n",
        "    ->It ia a situation when the child class inherited method of more than one parent class.\n",
        "\n",
        "#19. Explain the purpose of ‘’__str__’ and ‘__repr__’ ‘ methods in Python?\n",
        "\n",
        "    ->\"__str__\" it represents the string representation of object.\n",
        "    It overloads the object method.\n",
        "    ->\"__repr__\" it gives unambigous representation of string as it is.\n",
        "#20. What is the significance of the ‘super()’ function in Python?\n",
        "\n",
        "    -> It helps in accessing the base class directly in encapsulation.\n",
        "    \n",
        "#21. What is the significance of the __del__ method in Python?\n",
        "\n",
        "    ->It is used to clean data from the object . It is also called as destructor.\n",
        "    \n",
        "#22. What is the difference between @staticmethod and @classmethod in Python?\n",
        "\n",
        "    ->In class method we access to the class directly without any need of defining the object.\n",
        "    On the other hand we use static method for for method where we don't modify the instance.\n",
        "#23. How does polymorphism work in Python with inheritance?\n",
        "\n",
        "    ->Polymorphism means \"many forms,\" enables objects of different classes to respond to the same way. In Python, this is commonly achieved through inheritance, where subclasses inherit methods from a parent class and can modify or override them.\n",
        "\n",
        "#24. What is method chaining in Python OOP?\n",
        "\n",
        "    ->It enables us to call multiple methods in a object in a single code.\n",
        "\n",
        "#25. What is the purpose of the __call__ method in Python?\n",
        "\n",
        "    ->It makes a class to behave like a function .\n",
        "    you can call a object as it is a function."
      ],
      "metadata": {
        "id": "8luhSygHNoUK"
      }
    },
    {
      "cell_type": "markdown",
      "source": [
        "#PRACTICAL ANSWERS"
      ],
      "metadata": {
        "id": "5T7AeJMZNovs"
      }
    },
    {
      "cell_type": "markdown",
      "source": [
        "#ANSWER-15"
      ],
      "metadata": {
        "id": "u407lZgcPsgS"
      }
    },
    {
      "cell_type": "code",
      "source": [
        "# Create a class Product with attributes name, price, and quantity. Implement a method total_price() that calculates the total price of the product.\n",
        "\n",
        "class Product:\n",
        "    def __init__(self, name, price, quantity):\n",
        "        self.name = name\n",
        "        self.price = price\n",
        "        self.quantity = quantity\n",
        "\n",
        "    def total_price(self):\n",
        "        return self.price * self.quantity\n"
      ],
      "metadata": {
        "id": "A4tnDHrePq_w"
      },
      "execution_count": null,
      "outputs": []
    },
    {
      "cell_type": "code",
      "source": [
        "p = Product(\"tv\", 3000 , 5)"
      ],
      "metadata": {
        "id": "T3w5doMtoAtv"
      },
      "execution_count": null,
      "outputs": []
    },
    {
      "cell_type": "code",
      "source": [
        "p.total_price()"
      ],
      "metadata": {
        "colab": {
          "base_uri": "https://localhost:8080/"
        },
        "id": "NC3ejf9voLtM",
        "outputId": "7d9f0265-07ed-44a2-ae3f-d82e5136d5d2"
      },
      "execution_count": null,
      "outputs": [
        {
          "output_type": "execute_result",
          "data": {
            "text/plain": [
              "15000"
            ]
          },
          "metadata": {},
          "execution_count": 40
        }
      ]
    },
    {
      "cell_type": "markdown",
      "source": [
        "#Answer-1"
      ],
      "metadata": {
        "id": "NgiQL0F-qf9B"
      }
    },
    {
      "cell_type": "code",
      "source": [
        "# Create a parent class Animal with a method speak() that prints a generic message. Create a child class Dog that overrides the speak() method to print \"Bark!\".\n",
        "class animal:\n",
        "  def speak(self):\n",
        "    print(\"i am father\")\n",
        "\n",
        "class dog(animal):\n",
        "  def sp2(self):\n",
        "    print(\"i am son\")\n",
        "\n",
        "  def speak(self):\n",
        "    print(\"bark!\")\n",
        "\n"
      ],
      "metadata": {
        "id": "g4l55sI0oLyQ"
      },
      "execution_count": null,
      "outputs": []
    },
    {
      "cell_type": "code",
      "source": [
        "arg = dog()\n",
        "arg.speak()"
      ],
      "metadata": {
        "colab": {
          "base_uri": "https://localhost:8080/"
        },
        "id": "1hiSB6MlrZjo",
        "outputId": "6843160e-9917-4aca-a8dc-2a7902f96db4"
      },
      "execution_count": null,
      "outputs": [
        {
          "output_type": "stream",
          "name": "stdout",
          "text": [
            "bark!\n"
          ]
        }
      ]
    },
    {
      "cell_type": "markdown",
      "source": [
        "#ANSWER-3"
      ],
      "metadata": {
        "id": "g1eL8Q8xt7pD"
      }
    },
    {
      "cell_type": "code",
      "source": [
        "#3. Implement a multi-level inheritance scenario where a class Vehicle has an attribute type. Derive a class Car and further derive a class ElectricCar that adds a battery attribute.\n",
        "\n",
        "class vehicle:\n",
        "    def my_vehicle(self):\n",
        "        print(\"it runs with all type of energy\")\n",
        "\n",
        "class car(vehicle):\n",
        "    def my_car(self):\n",
        "        print(\"it runs with petrol or desiel.\")\n",
        "\n",
        "class electriccar(car):\n",
        "     def my_electriccar(self):\n",
        "         print(\"it runs with battery.\")\n",
        "\n"
      ],
      "metadata": {
        "id": "p5XTGBG8rZml"
      },
      "execution_count": null,
      "outputs": []
    },
    {
      "cell_type": "code",
      "source": [
        "my_car = electriccar()\n",
        "my_car.my_electriccar()\n",
        "my_car.my_car()\n",
        "my_car.my_vehicle()"
      ],
      "metadata": {
        "colab": {
          "base_uri": "https://localhost:8080/"
        },
        "id": "LuiaUH3OrZpn",
        "outputId": "9f4ef472-cf96-48bc-dc90-2b13e5e65a0a"
      },
      "execution_count": null,
      "outputs": [
        {
          "output_type": "stream",
          "name": "stdout",
          "text": [
            "it runs with battery.\n",
            "it runs with petrol or desiel.\n",
            "it runs with all type of energy\n"
          ]
        }
      ]
    },
    {
      "cell_type": "markdown",
      "source": [
        "#ANSWER-7"
      ],
      "metadata": {
        "id": "X8JiU5Z1ylb4"
      }
    },
    {
      "cell_type": "code",
      "source": [
        "# Create a class MathOperations with a class method add_numbers() to add two numbers and a static method subtract_numbers() to subtract two numbers\n",
        "class mathoperations:\n",
        "\n",
        "    @staticmethod\n",
        "    def add(x, y):\n",
        "        return x+y\n",
        "\n",
        "    @staticmethod\n",
        "    def subtract(x,y):\n",
        "        return x-y"
      ],
      "metadata": {
        "id": "tstoH1iTrZtF"
      },
      "execution_count": 63,
      "outputs": []
    },
    {
      "cell_type": "code",
      "source": [
        "mathoperations.add(4,9)"
      ],
      "metadata": {
        "colab": {
          "base_uri": "https://localhost:8080/"
        },
        "id": "Ce4ulH20l0YO",
        "outputId": "dafcc069-e879-4602-ec44-e96177c387a2"
      },
      "execution_count": 64,
      "outputs": [
        {
          "output_type": "execute_result",
          "data": {
            "text/plain": [
              "13"
            ]
          },
          "metadata": {},
          "execution_count": 64
        }
      ]
    },
    {
      "cell_type": "code",
      "source": [
        "mathoperations.subtract(50,11)"
      ],
      "metadata": {
        "colab": {
          "base_uri": "https://localhost:8080/"
        },
        "id": "fmDt9EK6l0qu",
        "outputId": "b5d06f74-42b5-4152-ca5a-91e243690b70"
      },
      "execution_count": 65,
      "outputs": [
        {
          "output_type": "execute_result",
          "data": {
            "text/plain": [
              "39"
            ]
          },
          "metadata": {},
          "execution_count": 65
        }
      ]
    },
    {
      "cell_type": "markdown",
      "source": [
        "#ANSWER-14"
      ],
      "metadata": {
        "id": "xPyzT0az2jMf"
      }
    },
    {
      "cell_type": "code",
      "source": [
        "#. Create a class Employee with a method calculate_salary() that computes the salary based on hours workedand hourly rate. Create a derived class Manager that adds a bonus to the salary.\n",
        "class Employee:\n",
        "    def __init__(self, hours, rate):\n",
        "        self.hours = hours\n",
        "        self.rate = rate\n",
        "\n",
        "\n",
        "    def calculate_salary(self):\n",
        "        return self.hours * self.rate\n",
        "\n",
        "\n",
        "\n"
      ],
      "metadata": {
        "id": "GTABO6bt2h5U"
      },
      "execution_count": null,
      "outputs": []
    },
    {
      "cell_type": "code",
      "source": [
        "r = Employee(10, 5)"
      ],
      "metadata": {
        "id": "uLJIq9ll2iNL"
      },
      "execution_count": null,
      "outputs": []
    },
    {
      "cell_type": "code",
      "source": [
        "r.calculate_salary()"
      ],
      "metadata": {
        "colab": {
          "base_uri": "https://localhost:8080/"
        },
        "id": "C1T3s06K2iQf",
        "outputId": "20fd6a7c-ffd6-4efb-b881-a4b56e0f745a"
      },
      "execution_count": null,
      "outputs": [
        {
          "output_type": "execute_result",
          "data": {
            "text/plain": [
              "50"
            ]
          },
          "metadata": {},
          "execution_count": 47
        }
      ]
    },
    {
      "cell_type": "markdown",
      "source": [
        "#ANSWER-13"
      ],
      "metadata": {
        "id": "dLT950egIEvE"
      }
    },
    {
      "cell_type": "code",
      "source": [
        "# Create a class Rectangle with methods set_dimensions() to set the dimensions and area() to calculate the area.\n",
        "class rectangle:\n",
        "    def __init__(self, length, width):\n",
        "        self.length = length\n",
        "        self.width = width\n",
        "\n",
        "\n",
        "    def area(self):\n",
        "        return self.length * self.width\n"
      ],
      "metadata": {
        "id": "SyBzADsCIKE4"
      },
      "execution_count": null,
      "outputs": []
    },
    {
      "cell_type": "code",
      "source": [
        "dem = rectangle(13,20)\n",
        "dem.area()"
      ],
      "metadata": {
        "colab": {
          "base_uri": "https://localhost:8080/"
        },
        "id": "Khtrw1MWIKIA",
        "outputId": "13c4863d-3f6b-4ad6-9573-ea0e8888d6b1"
      },
      "execution_count": null,
      "outputs": [
        {
          "output_type": "execute_result",
          "data": {
            "text/plain": [
              "260"
            ]
          },
          "metadata": {},
          "execution_count": 50
        }
      ]
    },
    {
      "cell_type": "markdown",
      "source": [
        "#ANSWER-17"
      ],
      "metadata": {
        "id": "oq4vm5BHKPer"
      }
    },
    {
      "cell_type": "code",
      "source": [
        "#7. Create a class Book with attributes title, author, and year_published. Add a method get_book_info() that returns a formatted string with the book's details.\n",
        "class book:\n",
        "    def __init__(self, title, author, year):\n",
        "        self.title = title\n",
        "        self.author = author\n",
        "        self.year = year\n",
        "\n",
        "    def get_book_info(self):\n",
        "        return self.title , self.author, self.year\n",
        "\n",
        "\n"
      ],
      "metadata": {
        "id": "ZYPL6FCSIKLQ"
      },
      "execution_count": null,
      "outputs": []
    },
    {
      "cell_type": "code",
      "source": [
        "info = book(\"happy\" ,\"ravi gupta\" ,1998)\n",
        "info.get_book_info()"
      ],
      "metadata": {
        "colab": {
          "base_uri": "https://localhost:8080/"
        },
        "id": "b1ifSvDEIKSP",
        "outputId": "a15fdbda-6951-4db5-d8b8-8192c362888b"
      },
      "execution_count": null,
      "outputs": [
        {
          "output_type": "execute_result",
          "data": {
            "text/plain": [
              "('happy', 'ravi gupta', 1998)"
            ]
          },
          "metadata": {},
          "execution_count": 83
        }
      ]
    },
    {
      "cell_type": "markdown",
      "source": [
        "#ANSWER-18"
      ],
      "metadata": {
        "id": "PZQMCb_zbhn-"
      }
    },
    {
      "cell_type": "code",
      "source": [
        "#Create a class House with attributes address and price. Create a derived class Mansion that adds an attribute number_of_rooms.\n",
        "class house:\n",
        "    def __init__(self, address, price):\n",
        "        self.address = address\n",
        "        self.price = price\n",
        "\n",
        "    def get_house_info(self):\n",
        "        return self.address , self.price\n",
        "\n"
      ],
      "metadata": {
        "id": "ajEMCDVyONS4"
      },
      "execution_count": null,
      "outputs": []
    },
    {
      "cell_type": "code",
      "source": [
        "hou = house(\"h no. 234, fbd\", 50000)\n",
        "hou.get_house_info()"
      ],
      "metadata": {
        "colab": {
          "base_uri": "https://localhost:8080/"
        },
        "id": "Wac_d2cqcRGi",
        "outputId": "e9df6c5d-7061-4e25-f112-241ee0ec5d11"
      },
      "execution_count": null,
      "outputs": [
        {
          "output_type": "execute_result",
          "data": {
            "text/plain": [
              "('h no. 234, fbd', 50000)"
            ]
          },
          "metadata": {},
          "execution_count": 89
        }
      ]
    },
    {
      "cell_type": "code",
      "source": [
        "class mansion:\n",
        "    def __init__(self, address, price,number_of_rooms):\n",
        "        self.address = address\n",
        "        self.price = price\n",
        "        self.number_of_rooms = number_of_rooms\n",
        "\n",
        "    def get_mansion_info(self):\n",
        "        return self.address , self.price , self.number_of_rooms\n",
        "\n"
      ],
      "metadata": {
        "id": "ajTFKWi7cRJh"
      },
      "execution_count": null,
      "outputs": []
    },
    {
      "cell_type": "code",
      "source": [
        "man = mansion(\"561,fbd,haryana\",100000, 15)\n",
        "man.get_mansion_info()"
      ],
      "metadata": {
        "colab": {
          "base_uri": "https://localhost:8080/"
        },
        "id": "iGsS5w92cRMm",
        "outputId": "f3f43f43-eccb-4663-a32b-05317bb5d8e8"
      },
      "execution_count": null,
      "outputs": [
        {
          "output_type": "execute_result",
          "data": {
            "text/plain": [
              "('561,fbd,haryana', 100000, 15)"
            ]
          },
          "metadata": {},
          "execution_count": 93
        }
      ]
    },
    {
      "cell_type": "markdown",
      "source": [
        "#ANSWER-16"
      ],
      "metadata": {
        "id": "PRBsuSNdp0lL"
      }
    },
    {
      "cell_type": "code",
      "source": [
        "# Create a class Animal with an abstract method sound(). Create two derived classes Cow and Sheep that implement the sound() method.\n",
        "import abc\n",
        "class animal:\n",
        "\n",
        "    @abc.abstractmethod\n",
        "    def sound1(self):\n",
        "        pass\n",
        "\n",
        "    @abc.abstractmethod\n",
        "    def sound2(self):\n",
        "        pass\n",
        "\n",
        "    @abc.abstractmethod\n",
        "    def sound3(self):\n",
        "        pass"
      ],
      "metadata": {
        "id": "3DRGLK30cRQF"
      },
      "execution_count": null,
      "outputs": []
    },
    {
      "cell_type": "code",
      "source": [
        "class cow(animal):\n",
        "    def sound1(self):\n",
        "       return \"cows sound\"\n",
        "\n",
        "class sheep(animal):\n",
        "    def sound2(self):\n",
        "       return \"sheep sound\"\n",
        "\n",
        "    def sound3(self):\n",
        "        return \"it is also sheep's sound\"\n"
      ],
      "metadata": {
        "id": "CTXUAzmfqbQy"
      },
      "execution_count": null,
      "outputs": []
    },
    {
      "cell_type": "code",
      "source": [
        "co = cow()\n",
        "sh = sheep()"
      ],
      "metadata": {
        "id": "vjS6T8ARqbT7"
      },
      "execution_count": null,
      "outputs": []
    },
    {
      "cell_type": "code",
      "source": [
        "co.sound1()"
      ],
      "metadata": {
        "colab": {
          "base_uri": "https://localhost:8080/",
          "height": 36
        },
        "id": "R5U-xGzQqbW1",
        "outputId": "bf0cf80f-fed3-4360-95c5-df958fbfc94c"
      },
      "execution_count": null,
      "outputs": [
        {
          "output_type": "execute_result",
          "data": {
            "text/plain": [
              "'cows sound'"
            ],
            "application/vnd.google.colaboratory.intrinsic+json": {
              "type": "string"
            }
          },
          "metadata": {},
          "execution_count": 105
        }
      ]
    },
    {
      "cell_type": "code",
      "source": [
        "sh.sound2()"
      ],
      "metadata": {
        "colab": {
          "base_uri": "https://localhost:8080/",
          "height": 36
        },
        "id": "dPNI071EqbZ0",
        "outputId": "2e229f35-26d3-4c19-e1a8-1f8ed6acfa5e"
      },
      "execution_count": null,
      "outputs": [
        {
          "output_type": "execute_result",
          "data": {
            "text/plain": [
              "'sheep sound'"
            ],
            "application/vnd.google.colaboratory.intrinsic+json": {
              "type": "string"
            }
          },
          "metadata": {},
          "execution_count": 106
        }
      ]
    },
    {
      "cell_type": "code",
      "source": [
        "sh.sound3()"
      ],
      "metadata": {
        "colab": {
          "base_uri": "https://localhost:8080/",
          "height": 36
        },
        "id": "dZkFXeUoqbdw",
        "outputId": "07f503d9-2a41-4b44-8746-c45cd0dba629"
      },
      "execution_count": null,
      "outputs": [
        {
          "output_type": "execute_result",
          "data": {
            "text/plain": [
              "\"it is also sheep's sound\""
            ],
            "application/vnd.google.colaboratory.intrinsic+json": {
              "type": "string"
            }
          },
          "metadata": {},
          "execution_count": 107
        }
      ]
    },
    {
      "cell_type": "markdown",
      "source": [
        "#ANSWER-11"
      ],
      "metadata": {
        "id": "maf1g7d2sPyT"
      }
    },
    {
      "cell_type": "code",
      "source": [
        "from ast import Name\n",
        "# Create a class Person with attributes name and age. Add a method greet() that prints \"Hello, my name is {name} and I am {age} years old.\"\n",
        "class person:\n",
        "  def __init__(self,name,age):\n",
        "      self.name = name\n",
        "      self.age = age\n",
        "\n",
        "  def greet(self):\n",
        "    print(\"hello,my name is\", self.name,  \"i am\" ,self.age ,\"years old\")\n"
      ],
      "metadata": {
        "id": "ymIaQH1tsShD"
      },
      "execution_count": null,
      "outputs": []
    },
    {
      "cell_type": "code",
      "source": [
        "intro = person(\"lavanya\",21)\n",
        "intro.greet()"
      ],
      "metadata": {
        "colab": {
          "base_uri": "https://localhost:8080/"
        },
        "id": "nBvgUx2hsTSv",
        "outputId": "b85d4eb0-29bd-46f7-a1d4-25979453a453"
      },
      "execution_count": null,
      "outputs": [
        {
          "output_type": "stream",
          "name": "stdout",
          "text": [
            "hello,my name is lavanya i am 21 years old\n"
          ]
        }
      ]
    },
    {
      "cell_type": "markdown",
      "source": [
        "#ANSWER-2"
      ],
      "metadata": {
        "id": "XB6XlTd5x88v"
      }
    },
    {
      "cell_type": "code",
      "source": [
        "# Write a program to create an abstract class Shape with a method area(). Derive classes Circle and Rectangle from it and implement the area() method in both.\n",
        "import abc\n",
        "class shape:\n",
        "\n",
        "    @abc.abstractmethod\n",
        "    def area(self):\n",
        "        pass\n",
        "\n",
        "\n",
        "\n"
      ],
      "metadata": {
        "id": "Baxunt9QsTV4"
      },
      "execution_count": 10,
      "outputs": []
    },
    {
      "cell_type": "code",
      "source": [
        "class rectangle(shape):\n",
        "    def __init__(self,length,width):\n",
        "      self.length = length\n",
        "      self.width = width\n",
        "\n",
        "    def area(self):\n",
        "        return self.length*self.width\n",
        "\n",
        "class circle(shape):\n",
        "    def __init__(self,radius):\n",
        "      self.radius = radius\n",
        "\n",
        "    def area(self):\n",
        "        return self.radius*self.radius*3.14"
      ],
      "metadata": {
        "id": "5FpK3uIZ1y6u"
      },
      "execution_count": 12,
      "outputs": []
    },
    {
      "cell_type": "code",
      "source": [
        "c = rectangle(42,2)\n",
        "c.area()"
      ],
      "metadata": {
        "id": "i8lf41Mi1y9t",
        "colab": {
          "base_uri": "https://localhost:8080/"
        },
        "outputId": "e4cd8261-dddb-42fb-929c-5533e239164e"
      },
      "execution_count": 13,
      "outputs": [
        {
          "output_type": "execute_result",
          "data": {
            "text/plain": [
              "84"
            ]
          },
          "metadata": {},
          "execution_count": 13
        }
      ]
    },
    {
      "cell_type": "code",
      "source": [
        "d = circle(5)\n",
        "d.area()"
      ],
      "metadata": {
        "id": "weqtV5nK1zA6",
        "colab": {
          "base_uri": "https://localhost:8080/"
        },
        "outputId": "36388ec5-e3db-43a5-a136-f40de45e02b0"
      },
      "execution_count": 14,
      "outputs": [
        {
          "output_type": "execute_result",
          "data": {
            "text/plain": [
              "78.5"
            ]
          },
          "metadata": {},
          "execution_count": 14
        }
      ]
    },
    {
      "cell_type": "markdown",
      "source": [
        "#ANSWER-4"
      ],
      "metadata": {
        "id": "l44Wb8UkXGNT"
      }
    },
    {
      "cell_type": "code",
      "source": [
        "# Demonstrate polymorphism by creating a base class Bird with a method fly(). Create two derived classes Sparrow and Penguin that override the fly() method.\n",
        "\n",
        "class bird:\n",
        "    def fly(self):\n",
        "        print(\"bird fly in air\")\n",
        "class sparrow(bird):\n",
        "    def fly(self):\n",
        "        print(\"sparrow fly\")\n",
        "\n",
        "class penguin(bird):\n",
        "    def fly(self):\n",
        "        print(\"penguin don't fly\")"
      ],
      "metadata": {
        "id": "0RuMCkQj1zEA"
      },
      "execution_count": 17,
      "outputs": []
    },
    {
      "cell_type": "code",
      "source": [
        "s = sparrow()\n",
        "s.fly()"
      ],
      "metadata": {
        "colab": {
          "base_uri": "https://localhost:8080/"
        },
        "id": "1aPM0BTlXw57",
        "outputId": "3df8f33f-d897-442d-f3f6-25f2d6500756"
      },
      "execution_count": 16,
      "outputs": [
        {
          "output_type": "stream",
          "name": "stdout",
          "text": [
            "sparrow fly\n"
          ]
        }
      ]
    },
    {
      "cell_type": "code",
      "source": [
        "p = penguin()\n",
        "p.fly()"
      ],
      "metadata": {
        "colab": {
          "base_uri": "https://localhost:8080/"
        },
        "id": "Peo5bnubXw8u",
        "outputId": "48c906ce-a22d-41e5-b03b-deaa09b06cd3"
      },
      "execution_count": 18,
      "outputs": [
        {
          "output_type": "stream",
          "name": "stdout",
          "text": [
            "penguin don't fly\n"
          ]
        }
      ]
    },
    {
      "cell_type": "markdown",
      "source": [
        "#ANSWER-5"
      ],
      "metadata": {
        "id": "WgYkKIeCYrbd"
      }
    },
    {
      "cell_type": "code",
      "source": [
        "#Write a program to demonstrate encapsulation by creating a class BankAccount with private attributes balance and methods to deposit, withdraw, and check balance.\n",
        "class Bank: #either you deposit or withdraw\n",
        "\n",
        "    def __init__(self, balance):\n",
        "        self.__balance = balance\n",
        "\n",
        "    def deposit(self, amount):\n",
        "        self.__balance = self.__balance + amount\n",
        "\n",
        "    def withdraw(self, amount):\n",
        "        self.__balance = self.__balance - amount\n",
        "\n",
        "\n",
        "    def check_balance(self):\n",
        "        return self.__balance"
      ],
      "metadata": {
        "id": "c1CQ3OlcXw_M"
      },
      "execution_count": 20,
      "outputs": []
    },
    {
      "cell_type": "code",
      "source": [
        "b = Bank(10000)"
      ],
      "metadata": {
        "id": "Vgac-mqqXxB1"
      },
      "execution_count": 26,
      "outputs": []
    },
    {
      "cell_type": "code",
      "source": [
        "b.deposit(1000)\n",
        "b.check_balance()"
      ],
      "metadata": {
        "colab": {
          "base_uri": "https://localhost:8080/"
        },
        "id": "Iyp_coanXxFb",
        "outputId": "fcdcec9e-c3f0-4a0a-98b2-f1a9fe1ce01e"
      },
      "execution_count": 27,
      "outputs": [
        {
          "output_type": "execute_result",
          "data": {
            "text/plain": [
              "11000"
            ]
          },
          "metadata": {},
          "execution_count": 27
        }
      ]
    },
    {
      "cell_type": "code",
      "source": [
        "b.withdraw(3000)\n",
        "b.check_balance()"
      ],
      "metadata": {
        "colab": {
          "base_uri": "https://localhost:8080/"
        },
        "id": "8i-UqdmhZ6Qs",
        "outputId": "42b76ee5-c5e3-42b1-a2e8-ade6f0fc0c99"
      },
      "execution_count": 28,
      "outputs": [
        {
          "output_type": "execute_result",
          "data": {
            "text/plain": [
              "8000"
            ]
          },
          "metadata": {},
          "execution_count": 28
        }
      ]
    },
    {
      "cell_type": "markdown",
      "source": [
        "#ANSWER-6"
      ],
      "metadata": {
        "id": "FJKxz9chbO7L"
      }
    },
    {
      "cell_type": "code",
      "source": [
        "# Demonstrate runtime polymorphism using a method play() in a base class Instrument. Derive classes Guitar and Piano that implement their own version of play().\n",
        "class instrument:\n",
        "    def play(self):\n",
        "        print(\"play music.\")\n",
        "class guitar(instrument):\n",
        "    def play(self):\n",
        "        print(\"play guitar\")\n",
        "\n",
        "class piano(instrument):\n",
        "    def play(self):\n",
        "        print(\"play piano.\")"
      ],
      "metadata": {
        "id": "erOyd93oZ6TU"
      },
      "execution_count": 29,
      "outputs": []
    },
    {
      "cell_type": "code",
      "source": [
        "g = guitar()\n",
        "g.play()"
      ],
      "metadata": {
        "colab": {
          "base_uri": "https://localhost:8080/"
        },
        "id": "3cJm5xDlZ6WH",
        "outputId": "2fb601dc-e2f0-49f6-ccff-959a3a76b7df"
      },
      "execution_count": 30,
      "outputs": [
        {
          "output_type": "stream",
          "name": "stdout",
          "text": [
            "play guitar\n"
          ]
        }
      ]
    },
    {
      "cell_type": "code",
      "source": [
        "p = piano()\n",
        "p.play()"
      ],
      "metadata": {
        "colab": {
          "base_uri": "https://localhost:8080/"
        },
        "id": "-xKesRAWZ6Yy",
        "outputId": "307b8c49-ae71-438c-8651-e9bd8245fa0c"
      },
      "execution_count": 31,
      "outputs": [
        {
          "output_type": "stream",
          "name": "stdout",
          "text": [
            "play piano.\n"
          ]
        }
      ]
    },
    {
      "cell_type": "markdown",
      "source": [
        "#ANSWER-8"
      ],
      "metadata": {
        "id": "FJDydgdubW0g"
      }
    },
    {
      "cell_type": "code",
      "source": [
        "#8. Implement a class Person with a class method to count the total number of persons created.\n",
        "class persons:\n",
        "  total_persons = 0\n",
        "  def __init__(self,name):\n",
        "      self.name = name\n",
        "      persons.total_persons = persons.total_persons +1\n",
        "\n",
        "  @classmethod\n",
        "\n",
        "  def get_total_persons(cls):\n",
        "     return cls.total_persons\n",
        "\n",
        "\n"
      ],
      "metadata": {
        "id": "ItCdTK0ZZ6bo"
      },
      "execution_count": 59,
      "outputs": []
    },
    {
      "cell_type": "code",
      "source": [
        "persons.total_persons"
      ],
      "metadata": {
        "colab": {
          "base_uri": "https://localhost:8080/"
        },
        "id": "o767DNg6hp1R",
        "outputId": "55f14306-639d-4fad-9a62-65ee7f8519b7"
      },
      "execution_count": 56,
      "outputs": [
        {
          "output_type": "execute_result",
          "data": {
            "text/plain": [
              "0"
            ]
          },
          "metadata": {},
          "execution_count": 56
        }
      ]
    },
    {
      "cell_type": "code",
      "source": [
        "p1 = persons(\"ram\")\n",
        "p2 =persons(\"sham\")\n",
        "p3 = persons(\"ravi\")\n",
        "p4 =persons(\"riya\")\n"
      ],
      "metadata": {
        "id": "GMY--AdJhp4b"
      },
      "execution_count": 61,
      "outputs": []
    },
    {
      "cell_type": "code",
      "source": [
        "persons.get_total_persons()"
      ],
      "metadata": {
        "colab": {
          "base_uri": "https://localhost:8080/"
        },
        "id": "bBPyuGd2hp7g",
        "outputId": "7f6a3ec7-9e03-40c8-eb7c-ca1368dfcfde"
      },
      "execution_count": 62,
      "outputs": [
        {
          "output_type": "execute_result",
          "data": {
            "text/plain": [
              "4"
            ]
          },
          "metadata": {},
          "execution_count": 62
        }
      ]
    },
    {
      "cell_type": "markdown",
      "source": [
        "#ANSWER-9"
      ],
      "metadata": {
        "id": "4AQ6nsrl0-n5"
      }
    },
    {
      "cell_type": "code",
      "source": [
        "#. Write a class Fraction with attributes numerator and denominator. Override the str method to display the fraction as \"numerator/denominator\".\n",
        "class fraction:\n",
        "    def __init__(self,numerator,denominator):\n",
        "        self.numerator = 4000\n",
        "        self.denominator = 100\n",
        "    def __str__(self):\n",
        "        return \"numerator/denominator\""
      ],
      "metadata": {
        "id": "8iSylTOxhp-V"
      },
      "execution_count": 66,
      "outputs": []
    },
    {
      "cell_type": "code",
      "source": [
        "print(fraction(100,300))"
      ],
      "metadata": {
        "colab": {
          "base_uri": "https://localhost:8080/"
        },
        "id": "aY8nRhB4hqB0",
        "outputId": "754cc311-db01-4e67-b954-1c5fc7d6cd8c"
      },
      "execution_count": 67,
      "outputs": [
        {
          "output_type": "stream",
          "name": "stdout",
          "text": [
            "numerator/denominator\n"
          ]
        }
      ]
    },
    {
      "cell_type": "markdown",
      "source": [
        "#ANSWER-10"
      ],
      "metadata": {
        "id": "7ydQNpEQ6jY1"
      }
    },
    {
      "cell_type": "code",
      "source": [
        "#Demonstrate operator overloading by creating a class Vector and overriding the add method to add two vectors\n",
        "class vector:\n",
        "  def add_method(self,a,b):\n",
        "    self.a = a\n",
        "    self.b = b\n",
        "    return a+b\n",
        "\n",
        "class addi(vector):\n",
        "  def add_method(self,a,b,c):\n",
        "    self.a = a\n",
        "    self.b = b\n",
        "    self.c = c\n",
        "    return a+b+c\n",
        "\n"
      ],
      "metadata": {
        "id": "jL8dAlSD6mDU"
      },
      "execution_count": 68,
      "outputs": []
    },
    {
      "cell_type": "code",
      "source": [
        "f = addi()\n",
        "f.add_method(2,4, 6)"
      ],
      "metadata": {
        "colab": {
          "base_uri": "https://localhost:8080/"
        },
        "id": "aclyw_L96mG7",
        "outputId": "a480859b-8c4e-4ffa-a84e-3d97cbe1fab5"
      },
      "execution_count": 72,
      "outputs": [
        {
          "output_type": "execute_result",
          "data": {
            "text/plain": [
              "12"
            ]
          },
          "metadata": {},
          "execution_count": 72
        }
      ]
    },
    {
      "cell_type": "code",
      "source": [],
      "metadata": {
        "id": "gfkLtHyN6mKZ"
      },
      "execution_count": null,
      "outputs": []
    },
    {
      "cell_type": "code",
      "source": [],
      "metadata": {
        "id": "4OXZHo7I6mNl"
      },
      "execution_count": null,
      "outputs": []
    }
  ]
}